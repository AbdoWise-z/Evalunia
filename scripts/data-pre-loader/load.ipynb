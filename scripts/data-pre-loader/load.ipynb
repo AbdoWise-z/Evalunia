{
 "cells": [
  {
   "cell_type": "code",
   "execution_count": 3,
   "metadata": {},
   "outputs": [],
   "source": [
    "from dotenv import load_dotenv\n",
    "load_dotenv(\"../../.env\")\n",
    "import os\n",
    "\n",
    "from pinecone import Pinecone, ServerlessSpec\n",
    "\n",
    "pc = Pinecone(api_key=os.getenv(\"PINECONE_API_KEY\"))"
   ]
  },
  {
   "cell_type": "code",
   "execution_count": 5,
   "metadata": {},
   "outputs": [],
   "source": [
    "pc.create_index(\n",
    "    name=\"prof-review-data\",\n",
    "    dimension=1024,\n",
    "    metric=\"cosine\",\n",
    "    spec=ServerlessSpec(\n",
    "        cloud=\"aws\",\n",
    "        region=\"us-east-1\"\n",
    "    ) \n",
    ")"
   ]
  },
  {
   "cell_type": "code",
   "execution_count": 7,
   "metadata": {},
   "outputs": [
    {
     "name": "stdout",
     "output_type": "stream",
     "text": [
      "[{'professor': 'Dr. Emily Thompson', 'stars': 4, 'review': 'Dr. Thompson is very knowledgeable and passionate about the subject. Her lectures are engaging, but the workload can be heavy at times.'}, {'professor': 'Prof. Michael Chen', 'stars': 5, 'review': \"Absolutely brilliant professor! Prof. Chen explains complex concepts in a way that's easy to understand. His office hours are incredibly helpful.\"}, {'professor': 'Dr. Sarah Patel', 'stars': 3, 'review': \"Dr. Patel's course material is interesting, but her teaching style can be a bit dry. Exams are fair, though.\"}, {'professor': 'Prof. James Wilson', 'stars': 2, 'review': 'Prof. Wilson seems disorganized and often unprepared for class. The course syllabus changes frequently, which is frustrating.'}, {'professor': 'Dr. Lisa Rodriguez', 'stars': 5, 'review': \"Dr. Rodriguez is an inspiration! Her real-world examples make the material come alive. She's always willing to help students outside of class.\"}, {'professor': 'Prof. David Lee', 'stars': 4, 'review': \"Prof. Lee's lectures are well-structured and informative. He has high expectations but is fair in his grading.\"}, {'professor': 'Dr. Rachel Green', 'stars': 3, 'review': 'Dr. Green knows her stuff, but can be a bit intimidating to approach. Her exams are quite challenging.'}, {'professor': 'Prof. Robert Brown', 'stars': 5, 'review': 'Prof. Brown is exceptional! He makes even the most difficult topics accessible and is always available for extra help.'}, {'professor': 'Dr. Amanda White', 'stars': 2, 'review': \"Dr. White's lectures are hard to follow. The course material doesn't seem well-organized, and there's a lack of clear expectations.\"}, {'professor': 'Prof. Thomas Jackson', 'stars': 4, 'review': 'Prof. Jackson brings a wealth of industry experience to his teaching. His projects are challenging but rewarding.'}, {'professor': 'Dr. Maria Garcia', 'stars': 5, 'review': \"Dr. Garcia is phenomenal! Her enthusiasm is contagious, and she genuinely cares about her students' success.\"}, {'professor': 'Prof. John Smith', 'stars': 3, 'review': \"Prof. Smith's lectures can be a bit monotonous, but the content is solid. His office hours are helpful if you're struggling.\"}, {'professor': 'Dr. Elizabeth Taylor', 'stars': 4, 'review': 'Dr. Taylor is a dedicated educator. Her assignments are challenging but help reinforce the lecture material well.'}, {'professor': 'Prof. William Davis', 'stars': 2, 'review': 'Prof. Davis often seems disinterested in teaching. The class feels disorganized and the grading criteria are unclear.'}, {'professor': 'Dr. Jennifer Lopez', 'stars': 5, 'review': 'Dr. Lopez is an outstanding professor! Her lectures are engaging, and she provides excellent feedback on assignments.'}, {'professor': 'Prof. Richard Miller', 'stars': 3, 'review': 'Prof. Miller knows his subject well, but can sometimes struggle to explain complex concepts clearly.'}, {'professor': 'Dr. Laura Martinez', 'stars': 4, 'review': 'Dr. Martinez is very approachable and always willing to help. Her exams are challenging but fair.'}, {'professor': 'Prof. Christopher Lee', 'stars': 5, 'review': 'Prof. Lee is simply the best! His teaching style is engaging, and he makes difficult concepts easy to grasp.'}, {'professor': 'Dr. Samantha Brown', 'stars': 2, 'review': \"Dr. Brown's expectations are often unclear, and her grading seems inconsistent. The course material feels disjointed.\"}, {'professor': 'Prof. Daniel Kim', 'stars': 4, 'review': \"Prof. Kim's lectures are well-prepared and informative. He's always open to questions and encourages class discussion.\"}, {'professor': 'Dr. Olivia Johnson', 'stars': 3, 'review': \"Dr. Johnson's course is interesting, but the workload can be overwhelming at times. She's helpful during office hours.\"}, {'professor': 'Prof. Alexander Wang', 'stars': 5, 'review': 'Prof. Wang is an exceptional educator. His passion for the subject is evident, and he truly cares about student learning.'}, {'professor': 'Dr. Sophia Nguyen', 'stars': 4, 'review': \"Dr. Nguyen's class is challenging but rewarding. Her real-world examples help make the material more relatable.\"}, {'professor': 'Prof. Benjamin Harris', 'stars': 2, 'review': 'Prof. Harris often cancels classes and seems unprepared when he does teach. The course lacks structure and clear objectives.'}, {'professor': 'Dr. Emma Wilson', 'stars': 5, 'review': 'Dr. Wilson is a gem! Her teaching style is engaging, and she goes above and beyond to ensure students understand the material.'}, {'professor': 'Prof. Andrew Taylor', 'stars': 3, 'review': \"Prof. Taylor's lectures can be dry, but the content is solid. His assignments are relevant and help reinforce key concepts.\"}, {'professor': 'Dr. Grace Lee', 'stars': 4, 'review': 'Dr. Lee is knowledgeable and approachable. Her exams are challenging but fair, and she provides helpful feedback.'}, {'professor': 'Prof. Kevin Chen', 'stars': 5, 'review': 'Prof. Chen is outstanding! His enthusiasm for the subject is infectious, and he makes even complex topics accessible.'}, {'professor': 'Dr. Patricia Rodriguez', 'stars': 3, 'review': 'Dr. Rodriguez knows her subject well, but her teaching style can be a bit confusing at times. Office hours are helpful.'}, {'professor': 'Prof. Mark Johnson', 'stars': 4, 'review': \"Prof. Johnson's class is well-structured and informative. He sets high standards but provides the support to meet them.\"}]\n"
     ]
    }
   ],
   "source": [
    "import json\n",
    "\n",
    "data = json.load(open(\"mock_data.json\"))\n",
    "print(data)"
   ]
  },
  {
   "cell_type": "code",
   "execution_count": 9,
   "metadata": {},
   "outputs": [],
   "source": [
    "import requests\n",
    "\n",
    "processed_data = []\n",
    "\n",
    "\n",
    "def generate_embeddings(text):\n",
    "\tkey = os.getenv(\"HG_EMBEDDING_API_KEY\")\n",
    "\tAPI_URL = \"https://api-inference.huggingface.co/models/intfloat/multilingual-e5-large\"\n",
    "\theaders = {\"Authorization\": f\"Bearer {key}\"}\n",
    "\tdef query(payload):\n",
    "\t\tresponse = requests.post(API_URL, headers=headers, json=payload)\n",
    "\t\treturn response.json()\n",
    "\toutput = query({\n",
    "\t\t\"inputs\": \"Today is a sunny day and I will get some ice cream.\",\n",
    "\t})\n",
    "\treturn output\n",
    "\n",
    "for review in data:\n",
    "\ttext = review[\"review\"]\n",
    "\tembiddings = generate_embeddings(text)\n",
    "\tprocessed_data.append({\n",
    "\t\t\"values\": embiddings,\n",
    "\t\t\"id\": review[\"professor\"],\n",
    "\t\t\"metadata\": {\n",
    "\t\t\t\"review\": review[\"review\"],\n",
    "\t\t\t\"stars\": review[\"stars\"],\n",
    "\t\t\t\"professor\": review[\"professor\"],\n",
    "\t\t}\n",
    "\t})\n",
    "\n"
   ]
  },
  {
   "cell_type": "code",
   "execution_count": 11,
   "metadata": {},
   "outputs": [
    {
     "data": {
      "text/plain": [
       "{'upserted_count': 30}"
      ]
     },
     "execution_count": 11,
     "metadata": {},
     "output_type": "execute_result"
    }
   ],
   "source": [
    "index = pc.Index(\"prof-review-data\")\n",
    "index.upsert(\n",
    "  vectors=processed_data,\n",
    "  namespace=\"review-vectors\"\n",
    ")"
   ]
  },
  {
   "cell_type": "code",
   "execution_count": 12,
   "metadata": {},
   "outputs": [
    {
     "data": {
      "text/plain": [
       "{'dimension': 1024,\n",
       " 'index_fullness': 0.0,\n",
       " 'namespaces': {'review-vectors': {'vector_count': 30}},\n",
       " 'total_vector_count': 30}"
      ]
     },
     "execution_count": 12,
     "metadata": {},
     "output_type": "execute_result"
    }
   ],
   "source": [
    "index.describe_index_stats()"
   ]
  }
 ],
 "metadata": {
  "kernelspec": {
   "display_name": "Python 3",
   "language": "python",
   "name": "python3"
  },
  "language_info": {
   "codemirror_mode": {
    "name": "ipython",
    "version": 3
   },
   "file_extension": ".py",
   "mimetype": "text/x-python",
   "name": "python",
   "nbconvert_exporter": "python",
   "pygments_lexer": "ipython3",
   "version": "3.12.3"
  }
 },
 "nbformat": 4,
 "nbformat_minor": 2
}
